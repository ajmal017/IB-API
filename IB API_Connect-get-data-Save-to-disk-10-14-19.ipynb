{
 "cells": [
  {
   "cell_type": "markdown",
   "metadata": {},
   "source": [
    "# IB API_Connect-get-data-Save-to-disk\n",
    "\n",
    "**This script will download OHLCV historical data from the Interactive Brokers IB TWS API. Input a list of symbols stored in a CSV file.  Can be used for any security type and frequency offered by IB.  Downloaded data is stored to individual CSV files. 2-16-19, 10-14-19. Script works with TWS API -9.72 and higher.  IB TWS software must be installed and running with IB account.  Script is intended for all instrument types however to date it has been tested only on 'CASH'**<BR>\n",
    "Be sure to install:   pip3 install -U ib_insync<BR>\n",
    "<BR>\n",
    "\n",
    "\n",
    "&copy; Matt Chmielewski (emskiphoto) | mattcbike@gmail.com<BR>\n",
    "https://github.com/emskiphoto/IB-API"
   ]
  },
  {
   "cell_type": "markdown",
   "metadata": {},
   "source": [
    "References:<BR>\n",
    "https://github.com/erdewit/ib_insync/blob/master/notebooks/basics.ipynb\n",
    "\n",
    "https://interactivebrokers.github.io/tws-api/connection.html\n",
    "\n",
    "https://groups.io/g/insync"
   ]
  },
  {
   "cell_type": "code",
   "execution_count": 1,
   "metadata": {},
   "outputs": [],
   "source": [
    "import ib_insync\n",
    "import numpy as np\n",
    "import pandas as pd\n",
    "import os\n",
    "import time\n",
    "from pathlib import Path\n",
    "# print(ib_insync.__all__)"
   ]
  },
  {
   "cell_type": "code",
   "execution_count": 2,
   "metadata": {},
   "outputs": [],
   "source": [
    "from ib_insync import *\n",
    "util.startLoop()"
   ]
  },
  {
   "cell_type": "code",
   "execution_count": 3,
   "metadata": {},
   "outputs": [
    {
     "data": {
      "text/plain": [
       "<IB connected to 127.0.0.1:7497 clientId=1>"
      ]
     },
     "execution_count": 3,
     "metadata": {},
     "output_type": "execute_result"
    }
   ],
   "source": [
    "#                   MUST LOG IN TO 'TWS' DESKTOP PROGRAM BEFORE RUNNING THIS CELL (paper account)                  ##\n",
    "\n",
    "ib = IB()\n",
    "ib.connect('127.0.0.1', 7497, clientId=1)\n",
    "# Default values:  ib.connect('127.0.0.1', 7497, clientId=1)\n",
    "# Succesful connection will return:  \"<IB connected to 127.0.0.1:7497 clientId=XX>\"\n",
    "# Live Trading ports: TWS: 7496; IB Gateway: 4001. \n",
    "# Simulated Trading ports: TWS: 7497; IB Gateway: 4002\""
   ]
  },
  {
   "cell_type": "markdown",
   "metadata": {},
   "source": [
    "Save a list of instruments to be downloaded as a CSV file, one column only, with header \"Symbol\".  In Windows explorer navigate to path of CSV file. Use ALT + D, CTRL + C to copy filepath.   Paste filepath as answer to next question.  <BR>\n",
    "    <BR>\n",
    "Filepath must terminate with \"\\ticker_lists\\instrument_type\", for example:<BR>\n",
    "        C:\\Users\\user\\OneDrive\\ticker_lists\\CASH<BR>\n",
    "        <BR>\n",
    "instrument_list = (\"STK\", \"OPT\", \"FUT\", \"IND\", \"FOP\", \"CASH\", \"BAG\", \"WAR\",\n",
    "                   \"BOND\", \"CMDTY\", \"NEWS\", \"FUND\")          "
   ]
  },
  {
   "cell_type": "code",
   "execution_count": 38,
   "metadata": {},
   "outputs": [
    {
     "name": "stdout",
     "output_type": "stream",
     "text": [
      "Paste Windows file path to ticker list: \n",
      "C:\\Users\\user\\OneDrive\\STOCKS\\TICKER_HISTORIC_FILES\\Python_Data\\ticker_lists\\CASH\n"
     ]
    },
    {
     "data": {
      "text/plain": [
       "WindowsPath('C:/Users/user/OneDrive/STOCKS/TICKER_HISTORIC_FILES/Python_Data/ticker_lists/CASH')"
      ]
     },
     "execution_count": 38,
     "metadata": {},
     "output_type": "execute_result"
    }
   ],
   "source": [
    "# Request filepath to ticker list copied directly from Windows Explorer\n",
    "# C:\\Users\\user\\OneDrive\\STOCKS\\TICKER_HISTORIC_FILES\\Python_Data\\ticker_lists\\CASH\n",
    "pasted_path = input('Paste Windows file path to ticker list: \\n')\n",
    "source_path = Path(pasted_path)   #convert Windows path format to Python format\n",
    "os.chdir(source_path)             #Set source_path as current working directory\n",
    "source_path"
   ]
  },
  {
   "cell_type": "code",
   "execution_count": 28,
   "metadata": {},
   "outputs": [
    {
     "name": "stdout",
     "output_type": "stream",
     "text": [
      "CASH\n"
     ]
    },
    {
     "data": {
      "text/plain": [
       "'CASH'"
      ]
     },
     "execution_count": 28,
     "metadata": {},
     "output_type": "execute_result"
    }
   ],
   "source": [
    "# Define financial instrument type by parsing filepath\n",
    "\n",
    "instrument_list = (\"STK\", \"OPT\", \"FUT\", \"IND\", \"FOP\", \"CASH\", \"BAG\", \"WAR\",\n",
    "                   \"BOND\", \"CMDTY\", \"NEWS\", \"FUND\")\n",
    "# Option, Future, Forex, Index, CFD, Commodity,Bond, FuturesOption, MutualFund or Warrant, etc.\n",
    "security_type = ''\n",
    "\n",
    "for i in instrument_list:\n",
    "    if i in str(source_path):\n",
    "        security_type = i\n",
    "        print(i)\n",
    "        break\n",
    "    else:\n",
    "        pass\n",
    "\n",
    "security_type"
   ]
  },
  {
   "cell_type": "markdown",
   "metadata": {},
   "source": [
    "Duration (range) of time of data to be covered in data:<BR>\n",
    "    \n",
    "    Unit\tDescription\n",
    "    S\tSeconds\n",
    "    D\tDay\n",
    "    W\tWeek\n",
    "    M\tMonth\n",
    "    Y\tYear\n",
    " Example:   \"10 D\" is ten days"
   ]
  },
  {
   "cell_type": "code",
   "execution_count": 27,
   "metadata": {},
   "outputs": [],
   "source": [
    "# Define data frequency using IB 'barSizeSetting' format.  This will also define the filepath\n",
    "# where exported data will be stored (Ex. 1 secs, 5 secs, 10 secs, 15 secs, 30 secs,\n",
    "# 1 min, 2 mins, 3 mins, 5 mins, 10 mins, 15 mins, 20 mins, 30 mins, 1 hour, 2 hours, 3 hours, 4 hours, 8 hours,\n",
    "# 1 day, 1 week, 1 month)\n",
    "data_frequency = '1 hour'\n",
    "data_duration = '6 M'"
   ]
  },
  {
   "cell_type": "code",
   "execution_count": 44,
   "metadata": {},
   "outputs": [],
   "source": [
    "# define locations and paths\n",
    "security_type_path = security_type + \"/\"\n",
    "ticker_lists_root = \"C:/Users/user/OneDrive/STOCKS/TICKER_HISTORIC_FILES/Python_Data/ticker_lists/\"\n",
    "ticker_list_name_partial =\"ticker_list\"\n",
    "# ticker_list_name = ticker_list_name_partial + \".csv\"\n",
    "ticker_list_name = pasted_path + '/' + ticker_list_name_partial + \".csv\"\n",
    "data_output_root = \"C:/Users/user/OneDrive/STOCKS/TICKER_HISTORIC_FILES/Python_Data/\""
   ]
  },
  {
   "cell_type": "code",
   "execution_count": 50,
   "metadata": {},
   "outputs": [],
   "source": [
    "#define list of tickers to pull based on list in CSV, column header of list must be 'Symbol'\n",
    "ticker_list_csv = pd.read_csv(ticker_list_name)\n",
    "ticker_list = ticker_list_csv.Symbol.tolist() "
   ]
  },
  {
   "cell_type": "code",
   "execution_count": 51,
   "metadata": {},
   "outputs": [
    {
     "data": {
      "text/plain": [
       "'AUDCNH'"
      ]
     },
     "execution_count": 51,
     "metadata": {},
     "output_type": "execute_result"
    }
   ],
   "source": [
    "# read from list of tickers to be download\n",
    "ticker_list[2]"
   ]
  },
  {
   "cell_type": "markdown",
   "metadata": {},
   "source": [
    "https://interactivebrokers.github.io/tws-api/historical_bars.html"
   ]
  },
  {
   "cell_type": "code",
   "execution_count": 52,
   "metadata": {},
   "outputs": [
    {
     "name": "stdout",
     "output_type": "stream",
     "text": [
      "[BarData(date=datetime.datetime(2019, 10, 1, 16, 15), open=4.792705, high=4.792705, low=4.78852, close=4.790985, volume=-1, average=-1.0, barCount=-1), BarData(date=datetime.datetime(2019, 10, 1, 17, 0), open=4.790985, high=4.793415, low=4.789765, close=4.79099, volume=-1, average=-1.0, barCount=-1), BarData(date=datetime.datetime(2019, 10, 1, 18, 0), open=4.79099, high=4.797515, low=4.79049, close=4.795285, volume=-1, average=-1.0, barCount=-1)]\n",
      "\n",
      "\n",
      "BarData(date=datetime.datetime(2019, 10, 14, 20, 0), open=4.787385, high=4.80053, low=4.786045, close=4.797685, volume=-1, average=-1.0, barCount=-1)\n"
     ]
    }
   ],
   "source": [
    "#*****OPTIONAL****** request historical data for a single ticker in ticker_list *****OPTIONAL*****\n",
    "contract = Forex(ticker_list[2])\n",
    "bars = ib.reqHistoricalData(contract, endDateTime='', durationStr='10 D',\n",
    "        barSizeSetting=data_frequency, whatToShow='MIDPOINT', useRTH=True)\n",
    "contract\n",
    "\n",
    "print(bars[:3])\n",
    "print(\"\\n\")\n",
    "print(bars[-3])"
   ]
  },
  {
   "cell_type": "code",
   "execution_count": 59,
   "metadata": {},
   "outputs": [],
   "source": [
    "# how many tickers are in ticker list?\n",
    "ticker_quantity = len(ticker_list)"
   ]
  },
  {
   "cell_type": "code",
   "execution_count": 65,
   "metadata": {},
   "outputs": [
    {
     "data": {
      "text/plain": [
       "[Forex('GBPSEK', conId=28027122, exchange='IDEALPRO', localSymbol='GBP.SEK', tradingClass='GBP.SEK'),\n",
       " Forex('GBPSGD', conId=290880559, exchange='IDEALPRO', localSymbol='GBP.SGD', tradingClass='GBP.SGD'),\n",
       " Forex('GBPTRY', conId=41972332, exchange='IDEALPRO', localSymbol='GBP.TRY', tradingClass='GBP.TRY'),\n",
       " Forex('GBPUSD', conId=12087797, exchange='IDEALPRO', localSymbol='GBP.USD', tradingClass='GBP.USD'),\n",
       " Forex('GBPZAR', conId=208558332, exchange='IDEALPRO', localSymbol='GBP.ZAR', tradingClass='GBP.ZAR')]"
      ]
     },
     "execution_count": 65,
     "metadata": {},
     "output_type": "execute_result"
    }
   ],
   "source": [
    "# request historical data for tickers in ticker_list starting with 'start_ticker_row' and ending at 'end_ticker_row'\n",
    "# using start and end ticker values makes it possible to limit downloads to only some of tickers on ticker_list\n",
    "\n",
    "start_ticker_row = 61\n",
    "end_ticker_row = 66\n",
    "total_tickers = end_ticker_row - start_ticker_row\n",
    "\n",
    "contracts = [Forex(pair) for pair in ticker_list[start_ticker_row:end_ticker_row]]\n",
    "ib.qualifyContracts(*contracts)"
   ]
  },
  {
   "cell_type": "code",
   "execution_count": 66,
   "metadata": {},
   "outputs": [
    {
     "data": {
      "text/plain": [
       "Forex('GBPTRY', conId=41972332, exchange='IDEALPRO', localSymbol='GBP.TRY', tradingClass='GBP.TRY')"
      ]
     },
     "execution_count": 66,
     "metadata": {},
     "output_type": "execute_result"
    }
   ],
   "source": [
    "ib.qualifyContracts(*contracts)[2]"
   ]
  },
  {
   "cell_type": "code",
   "execution_count": 67,
   "metadata": {},
   "outputs": [
    {
     "name": "stdout",
     "output_type": "stream",
     "text": [
      "GBPSGD\n",
      "CNHAUD.csv\n"
     ]
    }
   ],
   "source": [
    "print(contracts[1].symbol + contracts[1].currency)   #only works for Forex (CASH)\n",
    "print('{}.csv'.format(contract.currency + contract.symbol))   #only works for Forex (CASH)"
   ]
  },
  {
   "cell_type": "code",
   "execution_count": 73,
   "metadata": {},
   "outputs": [
    {
     "name": "stdout",
     "output_type": "stream",
     "text": [
      "5 contracts will be saved to: \n",
      "C:/Users/user/OneDrive/STOCKS/TICKER_HISTORIC_FILES/Python_Data/1 hour/CASH/201910142218/\n"
     ]
    }
   ],
   "source": [
    "# define directory to be created based on current date.   \n",
    "# Historical data CSV files will be stored here.  \n",
    "# Name format is \"/data frequency/security type/YearMonthDayHourMinutes/\"\n",
    "datestring = time.strftime(\"%Y%m%d%H%M\")\n",
    "# data_output_filepath = data_output_root + data_frequency + \"/\" + security_type + \"/\" + datestring + \"/\"\n",
    "print(str(len(contracts)) + ' contracts will be saved to: \\n' + data_output_filepath)"
   ]
  },
  {
   "cell_type": "code",
   "execution_count": 74,
   "metadata": {},
   "outputs": [
    {
     "name": "stdout",
     "output_type": "stream",
     "text": [
      "5 contracts will be saved to: \n",
      "C:/Users/user/OneDrive/STOCKS/TICKER_HISTORIC_FILES/Python_Data/1 hour/CASH/201910142219/\n"
     ]
    }
   ],
   "source": [
    "# Create folders and filenames to store CSVs based on current date and time.   \n",
    "\n",
    "datestring = time.strftime(\"%Y%m%d%H%M\")   #\"%Y%m%d%H%M%S\"\n",
    "data_output_filepath = data_output_root + data_frequency + \"/\" + security_type + \"/\" + datestring + \"/\"\n",
    "\n",
    "# if contract doesn't exist already, make output directory\n",
    "# if not os.path.exists(data_output_filepath + '{}.csv'.format(contract.currency + contract.symbol)):\n",
    "if not os.path.exists(data_output_filepath):\n",
    "#         os.makedirs(data_output_filepath)\n",
    "    os.mkdir(data_output_filepath)\n",
    "print(str(len(contracts)) + ' contracts will be saved to: \\n' + data_output_filepath)    "
   ]
  },
  {
   "cell_type": "markdown",
   "metadata": {},
   "source": [
    "####FUTURE IMPROVEMENT 8/24/19: <BR>\n",
    "    improve I/O speed by implementing HDFStore tool <BR>\n",
    "    http://localhost:8888/notebooks/py4fi/code/ch09/09_input_output.ipynb\n",
    "    h5s = pd.HDFStore(filename + '.h5s', 'w')"
   ]
  },
  {
   "cell_type": "markdown",
   "metadata": {},
   "source": [
    "####FUTURE IMPROVEMENT 8/24/19: <BR>\n",
    "add more Historical Data Types, like 'HISTORICAL_VOLATILITY', 'TRADES' : <BR>\n",
    "    https://interactivebrokers.github.io/tws-api/historical_bars.html#hd_what_to_show"
   ]
  },
  {
   "cell_type": "code",
   "execution_count": 75,
   "metadata": {},
   "outputs": [],
   "source": [
    "# request data for all tickers in tickerlist and save to individual .CSV files.   This will overwrite existing files.\n",
    "# remove columns, format significant digits of data\n",
    "\n",
    "OHLC = ['open','high','low','close']\n",
    "columns_to_drop = ['barCount', 'average']\n",
    "for contract in contracts: \n",
    "        # Send request to Interactive Brokers TWS for contracts\n",
    "        bars = ib.reqHistoricalData(contract, endDateTime='', durationStr=data_duration,\n",
    "            barSizeSetting=data_frequency, whatToShow='MIDPOINT', useRTH=True)\n",
    "        \n",
    "        # Create dataframe from 'bars' list output, format bars data using IB \"util\"\n",
    "        df = util.df(bars) \n",
    "        df.set_index('date')\n",
    "        df[OHLC] = df[OHLC].astype('float').round(3)  #round values to 3 significant digits\n",
    "        if security_type == 'CASH':\n",
    "#             df.drop([columns_to_drop], axis=1, inplace=True, errors='ignore')  #Remove useless columns\n",
    "            df.drop(['volume', 'barCount', 'average'], axis=1, inplace=True)  #Remove useless columns\n",
    "        source_filename = contract.currency + contract.symbol\n",
    "        df.to_csv(data_output_filepath + '{}.csv'.format(source_filename), index=False)"
   ]
  },
  {
   "cell_type": "markdown",
   "metadata": {},
   "source": [
    "Disconnecting\n",
    "The following will disconnect ib and clear all its state:"
   ]
  },
  {
   "cell_type": "code",
   "execution_count": 76,
   "metadata": {},
   "outputs": [],
   "source": [
    "ib.disconnect()"
   ]
  },
  {
   "cell_type": "markdown",
   "metadata": {},
   "source": [
    "### END *******************END************END********END***********<BR>\n",
    "    This is the END END END END of this script"
   ]
  }
 ],
 "metadata": {
  "kernelspec": {
   "display_name": "Python 3",
   "language": "python",
   "name": "python3"
  },
  "language_info": {
   "codemirror_mode": {
    "name": "ipython",
    "version": 3
   },
   "file_extension": ".py",
   "mimetype": "text/x-python",
   "name": "python",
   "nbconvert_exporter": "python",
   "pygments_lexer": "ipython3",
   "version": "3.7.2"
  }
 },
 "nbformat": 4,
 "nbformat_minor": 2
}
